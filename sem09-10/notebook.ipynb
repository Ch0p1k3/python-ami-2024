{
 "cells": [
  {
   "cell_type": "markdown",
   "metadata": {},
   "source": [
    "## Декораторы"
   ]
  },
  {
   "cell_type": "code",
   "execution_count": null,
   "metadata": {},
   "outputs": [],
   "source": [
    "import sys\n",
    "import typing as tp\n",
    "\n",
    "\n",
    "def deprecate(func):\n",
    "    def wrapper(*args, **kwargs):\n",
    "        print(\n",
    "            f\"{func.__name__} is deprecated\",\n",
    "            file=sys.stderr\n",
    "        )\n",
    "        return func(*args, **kwargs)\n",
    "    return wrapper\n",
    "\n",
    "\n",
    "pprint = deprecate(print)\n",
    "\n",
    "pprint([1, 2, 3])"
   ]
  },
  {
   "cell_type": "code",
   "execution_count": 17,
   "metadata": {},
   "outputs": [],
   "source": [
    "@deprecate\n",
    "def pprint(*args: tp.Any, **kwargs: tp.Any):\n",
    "    '''\n",
    "    Старый pprint\n",
    "    '''\n",
    "    print(*args, **kwargs)"
   ]
  },
  {
   "cell_type": "code",
   "execution_count": null,
   "metadata": {},
   "outputs": [],
   "source": [
    "pprint([1, 2, 3])"
   ]
  },
  {
   "cell_type": "code",
   "execution_count": null,
   "metadata": {},
   "outputs": [],
   "source": [
    "help(pprint)"
   ]
  },
  {
   "cell_type": "code",
   "execution_count": null,
   "metadata": {},
   "outputs": [],
   "source": [
    "pprint.__name__, pprint.__doc__, pprint.__module__"
   ]
  },
  {
   "cell_type": "markdown",
   "metadata": {},
   "source": [
    "### Решение 1"
   ]
  },
  {
   "cell_type": "code",
   "execution_count": null,
   "metadata": {},
   "outputs": [],
   "source": [
    "import sys\n",
    "\n",
    "\n",
    "def deprecate(func):\n",
    "    def wrapper(*args, **kwargs):\n",
    "        print(\n",
    "            f\"{func.__name__} is deprecated\",\n",
    "            file=sys.stderr\n",
    "        )\n",
    "        return func(*args, **kwargs)\n",
    "    wrapper.__name__ = func.__name__\n",
    "    wrapper.__doc__ = func.__doc__\n",
    "    wrapper.__module__ = func.__module__\n",
    "    return wrapper\n",
    "\n",
    "\n",
    "pprint = deprecate(print)\n",
    "\n",
    "pprint([1, 2, 3])"
   ]
  },
  {
   "cell_type": "code",
   "execution_count": 22,
   "metadata": {},
   "outputs": [],
   "source": [
    "@deprecate\n",
    "def pprint(*args: tp.Any, **kwargs: tp.Any):\n",
    "    '''\n",
    "    Старый pprint\n",
    "    '''\n",
    "    print(*args, **kwargs)"
   ]
  },
  {
   "cell_type": "code",
   "execution_count": null,
   "metadata": {},
   "outputs": [],
   "source": [
    "help(pprint)"
   ]
  },
  {
   "cell_type": "code",
   "execution_count": null,
   "metadata": {},
   "outputs": [],
   "source": [
    "pprint.__name__, pprint.__doc__, pprint.__module__"
   ]
  },
  {
   "cell_type": "markdown",
   "metadata": {},
   "source": [
    "### Решение 2"
   ]
  },
  {
   "cell_type": "code",
   "execution_count": null,
   "metadata": {},
   "outputs": [],
   "source": [
    "import functools\n",
    "\n",
    "import sys\n",
    "\n",
    "\n",
    "def deprecate(func):\n",
    "    @functools.wraps(func)\n",
    "    def wrapper(*args, **kwargs):\n",
    "        print('{} is deprecated'.format(func.__name__),\n",
    "              file=sys.stderr)\n",
    "        return func(*args, **kwargs)\n",
    "    return wrapper\n",
    "\n",
    "\n",
    "pprint = deprecate(print)\n",
    "\n",
    "pprint([1, 2, 3])"
   ]
  },
  {
   "cell_type": "code",
   "execution_count": 26,
   "metadata": {},
   "outputs": [],
   "source": [
    "@deprecate\n",
    "def pprint(*args: tp.Any, **kwargs: tp.Any):\n",
    "    '''\n",
    "    Старый pprint\n",
    "    '''\n",
    "    print(*args, **kwargs)"
   ]
  },
  {
   "cell_type": "code",
   "execution_count": null,
   "metadata": {},
   "outputs": [],
   "source": [
    "help(pprint)"
   ]
  },
  {
   "cell_type": "code",
   "execution_count": null,
   "metadata": {},
   "outputs": [],
   "source": [
    "pprint.__name__, pprint.__doc__, pprint.__module__"
   ]
  },
  {
   "cell_type": "code",
   "execution_count": null,
   "metadata": {},
   "outputs": [],
   "source": []
  }
 ],
 "metadata": {
  "kernelspec": {
   "display_name": "Python 3",
   "language": "python",
   "name": "python3"
  },
  "language_info": {
   "codemirror_mode": {
    "name": "ipython",
    "version": 3
   },
   "file_extension": ".py",
   "mimetype": "text/x-python",
   "name": "python",
   "nbconvert_exporter": "python",
   "pygments_lexer": "ipython3",
   "version": "3.11.6"
  },
  "orig_nbformat": 4
 },
 "nbformat": 4,
 "nbformat_minor": 2
}
